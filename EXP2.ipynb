{
  "nbformat": 4,
  "nbformat_minor": 0,
  "metadata": {
    "colab": {
      "provenance": [],
      "authorship_tag": "ABX9TyPZhlCo1EvDLkogymSHfQcb",
      "include_colab_link": true
    },
    "kernelspec": {
      "name": "python3",
      "display_name": "Python 3"
    },
    "language_info": {
      "name": "python"
    }
  },
  "cells": [
    {
      "cell_type": "markdown",
      "metadata": {
        "id": "view-in-github",
        "colab_type": "text"
      },
      "source": [
        "<a href=\"https://colab.research.google.com/github/Vishnu-vardhan29/Deep-learning/blob/main/EXP2.ipynb\" target=\"_parent\"><img src=\"https://colab.research.google.com/assets/colab-badge.svg\" alt=\"Open In Colab\"/></a>"
      ]
    },
    {
      "cell_type": "code",
      "execution_count": 1,
      "metadata": {
        "colab": {
          "base_uri": "https://localhost:8080/"
        },
        "id": "gB8UGlCLZnRe",
        "outputId": "a43c6fd2-b46e-454d-dad5-665caeb3cead"
      },
      "outputs": [
        {
          "output_type": "stream",
          "name": "stdout",
          "text": [
            "Epoch 1/10\n",
            "20/20 [==============================] - 3s 35ms/step - loss: 0.6890 - accuracy: 0.6203 - val_loss: 0.6714 - val_accuracy: 0.6000\n",
            "Epoch 2/10\n",
            "20/20 [==============================] - 0s 11ms/step - loss: 0.6658 - accuracy: 0.5437 - val_loss: 0.6419 - val_accuracy: 0.6062\n",
            "Epoch 3/10\n",
            "20/20 [==============================] - 0s 15ms/step - loss: 0.6456 - accuracy: 0.5797 - val_loss: 0.6194 - val_accuracy: 0.6438\n",
            "Epoch 4/10\n",
            "20/20 [==============================] - 0s 16ms/step - loss: 0.6263 - accuracy: 0.6313 - val_loss: 0.5984 - val_accuracy: 0.6750\n",
            "Epoch 5/10\n",
            "20/20 [==============================] - 0s 17ms/step - loss: 0.6062 - accuracy: 0.6781 - val_loss: 0.5766 - val_accuracy: 0.7000\n",
            "Epoch 6/10\n",
            "20/20 [==============================] - 0s 13ms/step - loss: 0.5838 - accuracy: 0.7297 - val_loss: 0.5559 - val_accuracy: 0.7688\n",
            "Epoch 7/10\n",
            "20/20 [==============================] - 0s 16ms/step - loss: 0.5604 - accuracy: 0.7766 - val_loss: 0.5318 - val_accuracy: 0.8062\n",
            "Epoch 8/10\n",
            "20/20 [==============================] - 0s 18ms/step - loss: 0.5347 - accuracy: 0.8109 - val_loss: 0.5089 - val_accuracy: 0.8562\n",
            "Epoch 9/10\n",
            "20/20 [==============================] - 0s 15ms/step - loss: 0.5084 - accuracy: 0.8281 - val_loss: 0.4840 - val_accuracy: 0.8687\n",
            "Epoch 10/10\n",
            "20/20 [==============================] - 0s 13ms/step - loss: 0.4819 - accuracy: 0.8656 - val_loss: 0.4599 - val_accuracy: 0.9187\n",
            "7/7 [==============================] - 0s 7ms/step\n",
            "Test accuracy: 0.8600\n"
          ]
        }
      ],
      "source": [
        "import numpy as np\n",
        "import tensorflow as tf\n",
        "from tensorflow.keras.models import Sequential\n",
        "from tensorflow.keras.layers import Dense,Input\n",
        "from sklearn.model_selection import train_test_split\n",
        "from sklearn.metrics import accuracy_score\n",
        "np.random.seed(42)\n",
        "X = np.random.rand(1000, 2)\n",
        "y = (X[:, 0] + X[:, 1] > 1).astype(int)\n",
        "X_train, X_test, y_train, y_test = train_test_split(X, y, test_size=0.2,\n",
        "random_state=42)\n",
        "model = Sequential([Input(shape=(2)),Dense(64, activation='relu'),Dense(1,\n",
        "activation='sigmoid')])\n",
        "model.compile(optimizer='adam',loss='binary_crossentropy',metrics=['accuracy'])\n",
        "model.fit(X_train, y_train, epochs=10, batch_size=32, validation_split=0.2)\n",
        "y_pred = model.predict(X_test)\n",
        "y_pred_binary = (y_pred > 0.5).astype(int)\n",
        "test_accuracy = accuracy_score(y_test, y_pred_binary)\n",
        "print(f\"Test accuracy: {test_accuracy:.4f}\")"
      ]
    }
  ]
}